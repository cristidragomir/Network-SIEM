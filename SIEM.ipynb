{
 "cells": [
  {
   "cell_type": "markdown",
   "metadata": {},
   "source": [
    "### SIEM"
   ]
  },
  {
   "cell_type": "code",
   "execution_count": null,
   "metadata": {},
   "outputs": [],
   "source": [
    "import time\n",
    "import re\n",
    "from dataclasses import dataclass\n",
    "from typing import Generator, Optional\n",
    "from io import IOBase"
   ]
  },
  {
   "cell_type": "code",
   "execution_count": null,
   "metadata": {},
   "outputs": [],
   "source": [
    "def tail_follow(file: IOBase) -> Generator[str, None, None]:\n",
    "    file.seek(0, 2)\n",
    "    while True:\n",
    "        line = file.readline()\n",
    "        if line:\n",
    "            yield line\n",
    "            continue\n",
    "        time.sleep(1)"
   ]
  },
  {
   "cell_type": "code",
   "execution_count": null,
   "metadata": {},
   "outputs": [],
   "source": [
    "@dataclass\n",
    "class PacketInfo:\n",
    "    \"\"\" Information about a network packet\"\"\"\n",
    "    timestamp: str\n",
    "    protocol: str\n",
    "    src: str\n",
    "    dst: str\n",
    "    data: str\n",
    "    "
   ]
  },
  {
   "cell_type": "code",
   "execution_count": null,
   "metadata": {},
   "outputs": [],
   "source": [
    "# TODO Syslog format parsing?\n",
    "\n",
    "def parse_tcpdump(line: str) -> Optional[PacketInfo]:\n",
    "    pattern = re.compile(r'(\\d+:\\d+:\\d+\\.\\d+) (\\w+) ([\\d\\.]+|\\w+) > ([\\d\\.]+|\\w+): (.+)$')\n",
    "    match = pattern.match(line)\n",
    "    if match:\n",
    "        return PacketInfo(*list(match.groups()))\n",
    "    return None"
   ]
  },
  {
   "cell_type": "code",
   "execution_count": null,
   "metadata": {},
   "outputs": [],
   "source": [
    "file = open(\"syslog/log/messages\")\n",
    "for line in tail_follow(file):\n",
    "    pkt = parse_tcpdump(line)\n",
    "    if not pkt:\n",
    "        print(\"Packet format error\")\n",
    "    else:\n",
    "        print(f\"Packet from {pkt.src} to {pkt.dst}: {pkt.data}\")"
   ]
  },
  {
   "cell_type": "code",
   "execution_count": null,
   "metadata": {},
   "outputs": [],
   "source": []
  }
 ],
 "metadata": {
  "kernelspec": {
   "display_name": ".venv",
   "language": "python",
   "name": "python3"
  },
  "language_info": {
   "codemirror_mode": {
    "name": "ipython",
    "version": 3
   },
   "file_extension": ".py",
   "mimetype": "text/x-python",
   "name": "python",
   "nbconvert_exporter": "python",
   "pygments_lexer": "ipython3",
   "version": "3.11.6"
  }
 },
 "nbformat": 4,
 "nbformat_minor": 2
}
