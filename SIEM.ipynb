{
 "cells": [
  {
   "cell_type": "markdown",
   "metadata": {},
   "source": [
    "### SIEM"
   ]
  },
  {
   "cell_type": "code",
   "execution_count": 7,
   "metadata": {},
   "outputs": [],
   "source": [
    "import requests\n",
    "import time\n",
    "import re\n",
    "from dataclasses import dataclass\n",
    "from typing import Generator, Optional\n",
    "from io import IOBase\n",
    "import os\n",
    "\n",
    "from dotenv import load_dotenv\n",
    "\n",
    "load_dotenv()\n",
    "api_token = os.getenv('API_TOKEN')"
   ]
  },
  {
   "cell_type": "code",
   "execution_count": 8,
   "metadata": {},
   "outputs": [],
   "source": [
    "def tail_follow(file: IOBase) -> Generator[str, None, None]:\n",
    "    file.seek(0, 2)\n",
    "    while True:\n",
    "        line = file.readline()\n",
    "        if line:\n",
    "            yield line\n",
    "            continue\n",
    "        time.sleep(1)"
   ]
  },
  {
   "cell_type": "code",
   "execution_count": 10,
   "metadata": {},
   "outputs": [],
   "source": [
    "def papertrail_tail(token: str) -> Generator[str, None, None]:\n",
    "    url = \"https://papertrailapp.com/api/v1/events/search.json\"\n",
    "    headers = {\"X-Papertrail-Token\": token}\n",
    "\n",
    "    tail = False\n",
    "    min_id = None\n",
    "    limit = 10000\n",
    "\n",
    "    while True:\n",
    "        params = {\"limit\": limit}\n",
    "        if tail and min_id:\n",
    "            params[\"min_id\"] = min_id\n",
    "        else:\n",
    "            params[\"min_time\"] = int(time.time()) - 10\n",
    "        \n",
    "        r = requests.get(url, params=params, headers=headers)\n",
    "        r.raise_for_status()\n",
    "        data = r.json()\n",
    "        tail = data.get(\"tail\", False)\n",
    "        min_id = data.get(\"max_id\", None)\n",
    "        yield from (e[\"message\"] for e in data[\"events\"])\n",
    "        time.sleep(5)"
   ]
  },
  {
   "cell_type": "code",
   "execution_count": 11,
   "metadata": {},
   "outputs": [],
   "source": [
    "@dataclass\n",
    "class PacketInfo:\n",
    "    \"\"\" Information about a network packet\"\"\"\n",
    "    timestamp: str\n",
    "    protocol: str\n",
    "    src: str\n",
    "    dst: str\n",
    "    data: str\n",
    "    "
   ]
  },
  {
   "cell_type": "code",
   "execution_count": 12,
   "metadata": {},
   "outputs": [],
   "source": [
    "# TODO Syslog format parsing?\n",
    "\n",
    "def parse_tcpdump(line: str) -> Optional[PacketInfo]:\n",
    "    pattern = re.compile(r'(\\d+:\\d+:\\d+\\.\\d+) (\\w+) ([\\d\\.]+|\\w+) > ([\\d\\.]+|\\w+): (.+)$')\n",
    "    match = pattern.match(line)\n",
    "    if match:\n",
    "        return PacketInfo(*list(match.groups()))\n",
    "    return None"
   ]
  },
  {
   "cell_type": "code",
   "execution_count": null,
   "metadata": {},
   "outputs": [],
   "source": [
    "for line in papertrail_tail(api_token):\n",
    "    pkt = parse_tcpdump(line)\n",
    "    if not pkt:\n",
    "        print(\"Packet format error\")\n",
    "    else:\n",
    "        print(f\"Packet from {pkt.src} to {pkt.dst}: {pkt.data}\")"
   ]
  },
  {
   "cell_type": "code",
   "execution_count": null,
   "metadata": {},
   "outputs": [],
   "source": [
    "# Port scan detection\n",
    "from datetime import datetime, timedelta\n",
    "\n",
    "packet_counts = {}\n",
    "\n",
    "time_window = timedelta(seconds=10)\n",
    "packet_threshold = 100\n",
    "\n",
    "start_time = None\n",
    "\n",
    "for line in papertrail_tail(api_token):\n",
    "    pkt = parse_tcpdump(line)\n",
    "    if not pkt:\n",
    "        print(\"Packet format error\")\n",
    "    else:\n",
    "        print(f\"Packet from {pkt.src} to {pkt.dst}: {pkt.data}\")\n",
    "\n",
    "        pkt_time = datetime.strptime(pkt.timestamp, \"%H:%M:%S.%f\")\n",
    "\n",
    "        if start_time is None or pkt_time - start_time > time_window:\n",
    "            packet_counts.clear()\n",
    "            start_time = pkt_time\n",
    "\n",
    "        packet_counts[pkt.dst] += 1\n",
    "\n",
    "        \n",
    "        if packet_counts[pkt.dst] > packet_threshold:\n",
    "            print(f\"Port scan attack detected from: {pkt.src}\")"
   ]
  },
  {
   "cell_type": "code",
   "execution_count": null,
   "metadata": {},
   "outputs": [],
   "source": [
    "# Keep track of SYN packets sent to each destination\n",
    "syn_counts = {}\n",
    "\n",
    "# Define the time window and packet count threshold\n",
    "time_window = timedelta(seconds=10)\n",
    "packet_threshold = 1000\n",
    "\n",
    "# Keep track of the start time of the current time window\n",
    "start_time = None\n",
    "\n",
    "for line in papertrail_tail(api_token):\n",
    "    pkt = parse_tcpdump(line)\n",
    "    if not pkt:\n",
    "        print(\"Packet format error\")\n",
    "    else:\n",
    "        print(f\"Packet from {pkt.src} to {pkt.dst}: {pkt.data}\")\n",
    "\n",
    "        # Parse the packet timestamp\n",
    "        pkt_time = datetime.strptime(pkt.timestamp, \"%H:%M:%S.%f\")\n",
    "\n",
    "        # If this is the first packet or the time window has expired, reset the SYN counts and start time\n",
    "        if start_time is None or pkt_time - start_time > time_window:\n",
    "            syn_counts.clear()\n",
    "            start_time = pkt_time\n",
    "\n",
    "        # If the packet is a TCP SYN packet, increment the SYN count for the destination\n",
    "        if pkt.protocol == \"TCP\" and \"S\" in pkt.data:\n",
    "            syn_counts[pkt.dst] += 1\n",
    "\n",
    "        if syn_counts[pkt.dst] > packet_threshold:\n",
    "            print(f\"DOS (SYN flood) attack from: {pkt.src}\")"
   ]
  }
 ],
 "metadata": {
  "kernelspec": {
   "display_name": ".venv",
   "language": "python",
   "name": "python3"
  },
  "language_info": {
   "codemirror_mode": {
    "name": "ipython",
    "version": 3
   },
   "file_extension": ".py",
   "mimetype": "text/x-python",
   "name": "python",
   "nbconvert_exporter": "python",
   "pygments_lexer": "ipython3",
   "version": "3.11.6"
  }
 },
 "nbformat": 4,
 "nbformat_minor": 2
}
